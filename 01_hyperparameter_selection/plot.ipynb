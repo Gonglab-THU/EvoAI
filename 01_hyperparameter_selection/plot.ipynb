{
 "cells": [
  {
   "cell_type": "code",
   "execution_count": null,
   "id": "97231362",
   "metadata": {
    "ExecuteTime": {
     "end_time": "2023-08-05T06:40:27.740073Z",
     "start_time": "2023-08-05T06:40:25.447785Z"
    },
    "scrolled": false
   },
   "outputs": [],
   "source": [
    "import pandas as pd\n",
    "import plotly.graph_objects as go\n",
    "\n",
    "for i in range(10):\n",
    "    data = pd.read_csv(f'num_layer_1/k_fold-{i}_loss.csv', index_col = 0)\n",
    "    fig = go.Figure()\n",
    "    fig.add_trace(go.Scatter(x = data.index, y = data['train_loss'], mode = 'lines+markers', name = f'{i}-fold train'))\n",
    "    fig.add_trace(go.Scatter(x = data.index, y = data['validation_loss'], mode = 'lines+markers', name = f'{i}-fold validation'))\n",
    "    fig.add_trace(go.Scatter(x = data.index, y = data['test_corr'], mode = 'lines+markers', name = f'{i}-fold test'))\n",
    "    fig.show()"
   ]
  },
  {
   "cell_type": "code",
   "execution_count": null,
   "id": "3823b666",
   "metadata": {
    "ExecuteTime": {
     "end_time": "2023-08-05T06:40:27.892641Z",
     "start_time": "2023-08-05T06:40:27.742493Z"
    }
   },
   "outputs": [],
   "source": [
    "data = pd.DataFrame()\n",
    "for num_layer in range(1, 4):\n",
    "    for i in range(10):\n",
    "        tmp = pd.read_csv(f'num_layer_{num_layer}/k_fold-{i}_loss.csv', index_col = 0)\n",
    "        data.loc[f'num_layer-{num_layer}', f'{i}-fold'] = tmp.loc[tmp['validation_loss'].argmin(), 'test_corr']\n",
    "data"
   ]
  },
  {
   "cell_type": "code",
   "execution_count": null,
   "id": "a3894d7f",
   "metadata": {
    "ExecuteTime": {
     "end_time": "2023-08-05T06:40:28.017702Z",
     "start_time": "2023-08-05T06:40:27.896185Z"
    }
   },
   "outputs": [],
   "source": [
    "fig = go.Figure()\n",
    "fig.add_trace(go.Box(y = data.loc['num_layer-1'], name = '1 layer', boxpoints = 'all'))\n",
    "fig.add_trace(go.Box(y = data.loc['num_layer-2'], name = '2 layer', boxpoints = 'all'))\n",
    "fig.add_trace(go.Box(y = data.loc['num_layer-3'], name = '3 layer', boxpoints = 'all'))\n",
    "fig.show()"
   ]
  }
 ],
 "metadata": {
  "kernelspec": {
   "display_name": "Python 3 (ipykernel)",
   "language": "python",
   "name": "python3"
  },
  "language_info": {
   "codemirror_mode": {
    "name": "ipython",
    "version": 3
   },
   "file_extension": ".py",
   "mimetype": "text/x-python",
   "name": "python",
   "nbconvert_exporter": "python",
   "pygments_lexer": "ipython3",
   "version": "3.9.12"
  },
  "toc": {
   "base_numbering": 1,
   "nav_menu": {},
   "number_sections": true,
   "sideBar": true,
   "skip_h1_title": false,
   "title_cell": "Table of Contents",
   "title_sidebar": "Contents",
   "toc_cell": false,
   "toc_position": {},
   "toc_section_display": true,
   "toc_window_display": false
  }
 },
 "nbformat": 4,
 "nbformat_minor": 5
}
